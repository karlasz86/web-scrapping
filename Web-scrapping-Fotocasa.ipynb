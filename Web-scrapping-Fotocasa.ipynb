{
 "cells": [
  {
   "cell_type": "code",
   "execution_count": 2,
   "metadata": {},
   "outputs": [],
   "source": [
    "from selenium import webdriver\n",
    "from selenium.common.exceptions import NoSuchElementException\n",
    "from selenium.common import exceptions\n",
    "from selenium.webdriver.common.keys import Keys\n",
    "from webdriver_manager.chrome import ChromeDriverManager\n",
    "from selenium.webdriver.common.action_chains import ActionChains \n",
    "from bs4 import BeautifulSoup\n",
    "import pandas as pd\n",
    "import requests # for making standard html requests\n",
    "import json\n",
    "import re\n",
    "from random import randint\n",
    "from time import sleep"
   ]
  },
  {
   "cell_type": "code",
   "execution_count": null,
   "metadata": {},
   "outputs": [],
   "source": [
    "#!pip install webdriver-manager\n"
   ]
  },
  {
   "cell_type": "code",
   "execution_count": null,
   "metadata": {},
   "outputs": [],
   "source": [
    "# driver = webdriver.Chrome(ChromeDriverManager().install())"
   ]
  },
  {
   "cell_type": "code",
   "execution_count": 3,
   "metadata": {},
   "outputs": [],
   "source": [
    "driver_chrome = webdriver.Chrome(executable_path=\"C:/Users/ksalg/Curso Python Datahack/chromedriver.exe\")"
   ]
  },
  {
   "cell_type": "code",
   "execution_count": 4,
   "metadata": {},
   "outputs": [
    {
     "name": "stdout",
     "output_type": "stream",
     "text": [
      "<class 'bs4.element.ResultSet'>\n",
      "40\n"
     ]
    }
   ],
   "source": [
    "pisos_url = 'https://www.fotocasa.es/es/alquiler/viviendas/madrid-capital/todas-las-zonas/amueblado/l/?combinedLocationIds=724%2C14%2C28%2C173%2C0%2C28079%2C0%2C0%2C0&gridType=3&latitude=40.4096&longitude=-3.68624'\n",
    "r = driver_chrome.get(pisos_url)\n",
    "content = driver_chrome.page_source\n",
    "soup = BeautifulSoup(content, 'html.parser')\n",
    "flat_containers = soup.findAll('div', attrs={'class':'re-Searchresult-itemRow'})\n",
    "print(type(flat_containers))\n",
    "print(len(flat_containers))"
   ]
  },
  {
   "cell_type": "code",
   "execution_count": 7,
   "metadata": {},
   "outputs": [],
   "source": [
    "prices=[] #List to store price of the apartment\n",
    "features =[] #list to store features\n",
    "addresses=[] #List to store address\n",
    "descriptions = []"
   ]
  },
  {
   "cell_type": "code",
   "execution_count": 17,
   "metadata": {},
   "outputs": [],
   "source": [
    "for page in range(148,190):\n",
    "    pisos_url = 'https://www.fotocasa.es/es/alquiler/viviendas/madrid-capital/todas-las-zonas/amueblado/l/'+str(page)+'combinedLocationIds=724%2C14%2C28%2C173%2C0%2C28079%2C0%2C0%2C0&gridType=3&latitude=40.4096&longitude=-3.68624'\n",
    "    r = driver_chrome.get(pisos_url)\n",
    "    content = driver_chrome.page_source\n",
    "    soup = BeautifulSoup(content, 'html.parser')\n",
    "    flat_containers = soup.findAll('div', attrs={'class':'re-Searchresult-itemRow'})\n",
    "    if flat_containers != []:\n",
    "        for a in flat_containers:\n",
    "            price=a.find('span', attrs={'class': 're-Card-price'})\n",
    "            feature=a.find('div', attrs={'class': 're-CardFeatures-wrapper'})\n",
    "            address=a.find('h3', attrs={'class': 're-Card-title'})\n",
    "            description=a.find('span', attrs={'class': 're-Card-description'})\n",
    "\n",
    "            if None in (price, feature, address, description):\n",
    "                continue\n",
    "            prices.append(price.text)\n",
    "            features.append(feature.text)\n",
    "            addresses.append(address.text)\n",
    "            descriptions.append(description.text)\n",
    "            sleep(randint(1,3))\n",
    "    else:\n",
    "        break"
   ]
  },
  {
   "cell_type": "code",
   "execution_count": 18,
   "metadata": {},
   "outputs": [
    {
     "data": {
      "text/plain": [
       "576"
      ]
     },
     "execution_count": 18,
     "metadata": {},
     "output_type": "execute_result"
    }
   ],
   "source": [
    "len(prices)"
   ]
  },
  {
   "cell_type": "code",
   "execution_count": 19,
   "metadata": {},
   "outputs": [],
   "source": [
    "df_apt = pd.DataFrame({'Precio':prices,'Características':features, 'Dirección':addresses, 'Descripción':descriptions}) "
   ]
  },
  {
   "cell_type": "code",
   "execution_count": 20,
   "metadata": {},
   "outputs": [
    {
     "data": {
      "text/html": [
       "<div>\n",
       "<style scoped>\n",
       "    .dataframe tbody tr th:only-of-type {\n",
       "        vertical-align: middle;\n",
       "    }\n",
       "\n",
       "    .dataframe tbody tr th {\n",
       "        vertical-align: top;\n",
       "    }\n",
       "\n",
       "    .dataframe thead th {\n",
       "        text-align: right;\n",
       "    }\n",
       "</style>\n",
       "<table border=\"1\" class=\"dataframe\">\n",
       "  <thead>\n",
       "    <tr style=\"text-align: right;\">\n",
       "      <th></th>\n",
       "      <th>Precio</th>\n",
       "      <th>Características</th>\n",
       "      <th>Dirección</th>\n",
       "      <th>Descripción</th>\n",
       "    </tr>\n",
       "  </thead>\n",
       "  <tbody>\n",
       "    <tr>\n",
       "      <th>0</th>\n",
       "      <td>3.200 € /mes</td>\n",
       "      <td>3 habs.2 baños107 m²con ascensor y terraza</td>\n",
       "      <td>ÁticoChamartín</td>\n",
       "      <td>Este precioso piso de 110m²  amueblado, muy lu...</td>\n",
       "    </tr>\n",
       "    <tr>\n",
       "      <th>1</th>\n",
       "      <td>1.150 € /mes</td>\n",
       "      <td>3 habs.1 baño84 m²</td>\n",
       "      <td>PisoCalle de Santa Fe, Moncloa</td>\n",
       "      <td>Vivienda XXI alquila piso exterior de 3 dormit...</td>\n",
       "    </tr>\n",
       "    <tr>\n",
       "      <th>2</th>\n",
       "      <td>2.100 € /mes</td>\n",
       "      <td>2 habs.1 baño107 m²con ascensor y terraza</td>\n",
       "      <td>PisoPlaza de España, Moncloa</td>\n",
       "      <td>.En uno de los edificios más emblemáticos de M...</td>\n",
       "    </tr>\n",
       "    <tr>\n",
       "      <th>3</th>\n",
       "      <td>1.300 € /mes</td>\n",
       "      <td>3 habs.2 baños100 m²con ascensor y terraza</td>\n",
       "      <td>PisoCalle del Doctor Esquerdo, Retiro</td>\n",
       "      <td>Agencia inmobiliaria de MADRID - zona AVDA. CI...</td>\n",
       "    </tr>\n",
       "    <tr>\n",
       "      <th>4</th>\n",
       "      <td>1.000 € /mes</td>\n",
       "      <td>3 habs.1 baño83 m²</td>\n",
       "      <td>PisoCalle de Santa Pola, 5, Moncloa</td>\n",
       "      <td>Vivienda XXI alquila piso exterior de 3 dormit...</td>\n",
       "    </tr>\n",
       "    <tr>\n",
       "      <th>5</th>\n",
       "      <td>1.300 € /mes</td>\n",
       "      <td>3 habs.2 baños100 m²con ascensor y terraza</td>\n",
       "      <td>PisoCalle del Doctor Esquerdo, Retiro</td>\n",
       "      <td>Agencia inmobiliaria de MADRID - zona AVDA. CI...</td>\n",
       "    </tr>\n",
       "    <tr>\n",
       "      <th>6</th>\n",
       "      <td>780 € /mes</td>\n",
       "      <td>1 baño30 m²con ascensor</td>\n",
       "      <td>EstudioCalle de Guzmán el Bueno, Chamberí</td>\n",
       "      <td>REDFRIN alquila estudio en calle GUZMAN EL BUE...</td>\n",
       "    </tr>\n",
       "    <tr>\n",
       "      <th>7</th>\n",
       "      <td>1.300 € /mes</td>\n",
       "      <td>2 habs.1 baño55 m²con ascensor</td>\n",
       "      <td>PisoMoncloa</td>\n",
       "      <td>En el prestigioso barrio de Argüelles , encont...</td>\n",
       "    </tr>\n",
       "    <tr>\n",
       "      <th>8</th>\n",
       "      <td>1.300 € /mes</td>\n",
       "      <td>3 habs.2 baños100 m²con ascensor</td>\n",
       "      <td>PisoCalle de Luis Mitjans, Retiro</td>\n",
       "      <td>\"\"Agencia inmobiliaria de Madrid - zona Avda. ...</td>\n",
       "    </tr>\n",
       "    <tr>\n",
       "      <th>9</th>\n",
       "      <td>800 € /mes</td>\n",
       "      <td>1 hab.1 baño40 m²con ascensor</td>\n",
       "      <td>EstudioBola, Centro</td>\n",
       "      <td>CONSORCIO REAL ESTATE OPERA ALQUILA. Estudio 4...</td>\n",
       "    </tr>\n",
       "  </tbody>\n",
       "</table>\n",
       "</div>"
      ],
      "text/plain": [
       "         Precio                             Características  \\\n",
       "0  3.200 € /mes  3 habs.2 baños107 m²con ascensor y terraza   \n",
       "1  1.150 € /mes                          3 habs.1 baño84 m²   \n",
       "2  2.100 € /mes   2 habs.1 baño107 m²con ascensor y terraza   \n",
       "3  1.300 € /mes  3 habs.2 baños100 m²con ascensor y terraza   \n",
       "4  1.000 € /mes                          3 habs.1 baño83 m²   \n",
       "5  1.300 € /mes  3 habs.2 baños100 m²con ascensor y terraza   \n",
       "6    780 € /mes                     1 baño30 m²con ascensor   \n",
       "7  1.300 € /mes              2 habs.1 baño55 m²con ascensor   \n",
       "8  1.300 € /mes            3 habs.2 baños100 m²con ascensor   \n",
       "9    800 € /mes               1 hab.1 baño40 m²con ascensor   \n",
       "\n",
       "                                   Dirección  \\\n",
       "0                             ÁticoChamartín   \n",
       "1             PisoCalle de Santa Fe, Moncloa   \n",
       "2               PisoPlaza de España, Moncloa   \n",
       "3      PisoCalle del Doctor Esquerdo, Retiro   \n",
       "4        PisoCalle de Santa Pola, 5, Moncloa   \n",
       "5      PisoCalle del Doctor Esquerdo, Retiro   \n",
       "6  EstudioCalle de Guzmán el Bueno, Chamberí   \n",
       "7                                PisoMoncloa   \n",
       "8          PisoCalle de Luis Mitjans, Retiro   \n",
       "9                        EstudioBola, Centro   \n",
       "\n",
       "                                         Descripción  \n",
       "0  Este precioso piso de 110m²  amueblado, muy lu...  \n",
       "1  Vivienda XXI alquila piso exterior de 3 dormit...  \n",
       "2  .En uno de los edificios más emblemáticos de M...  \n",
       "3  Agencia inmobiliaria de MADRID - zona AVDA. CI...  \n",
       "4  Vivienda XXI alquila piso exterior de 3 dormit...  \n",
       "5  Agencia inmobiliaria de MADRID - zona AVDA. CI...  \n",
       "6  REDFRIN alquila estudio en calle GUZMAN EL BUE...  \n",
       "7  En el prestigioso barrio de Argüelles , encont...  \n",
       "8  \"\"Agencia inmobiliaria de Madrid - zona Avda. ...  \n",
       "9  CONSORCIO REAL ESTATE OPERA ALQUILA. Estudio 4...  "
      ]
     },
     "execution_count": 20,
     "metadata": {},
     "output_type": "execute_result"
    }
   ],
   "source": [
    "df_apt.head(10)"
   ]
  },
  {
   "cell_type": "code",
   "execution_count": 21,
   "metadata": {},
   "outputs": [],
   "source": [
    "df_apt.to_csv('precios_pisos_madrid.csv', index=False, encoding='utf-8')"
   ]
  },
  {
   "cell_type": "markdown",
   "metadata": {},
   "source": [
    "# Segunda parte"
   ]
  },
  {
   "cell_type": "markdown",
   "metadata": {},
   "source": [
    "Ahora que hemos obtenido los datos de los pisos, vamos a abrir el csv que acabamos de crear:"
   ]
  },
  {
   "cell_type": "code",
   "execution_count": 53,
   "metadata": {},
   "outputs": [],
   "source": [
    "import csv\n",
    "import pandas as pd\n",
    "path=\"C:/Users/ksalg/Curso Python Datahack/\"\n",
    "df_pisos=pd.read_csv(path+'precios_pisos_madrid.csv')"
   ]
  },
  {
   "cell_type": "code",
   "execution_count": 54,
   "metadata": {},
   "outputs": [
    {
     "data": {
      "text/html": [
       "<div>\n",
       "<style scoped>\n",
       "    .dataframe tbody tr th:only-of-type {\n",
       "        vertical-align: middle;\n",
       "    }\n",
       "\n",
       "    .dataframe tbody tr th {\n",
       "        vertical-align: top;\n",
       "    }\n",
       "\n",
       "    .dataframe thead th {\n",
       "        text-align: right;\n",
       "    }\n",
       "</style>\n",
       "<table border=\"1\" class=\"dataframe\">\n",
       "  <thead>\n",
       "    <tr style=\"text-align: right;\">\n",
       "      <th></th>\n",
       "      <th>Precio</th>\n",
       "      <th>Características</th>\n",
       "      <th>Dirección</th>\n",
       "      <th>Descripción</th>\n",
       "    </tr>\n",
       "  </thead>\n",
       "  <tbody>\n",
       "    <tr>\n",
       "      <th>0</th>\n",
       "      <td>3.200 € /mes</td>\n",
       "      <td>3 habs.2 baños107 m²con ascensor y terraza</td>\n",
       "      <td>ÁticoChamartín</td>\n",
       "      <td>Este precioso piso de 110m²  amueblado, muy lu...</td>\n",
       "    </tr>\n",
       "    <tr>\n",
       "      <th>1</th>\n",
       "      <td>1.150 € /mes</td>\n",
       "      <td>3 habs.1 baño84 m²</td>\n",
       "      <td>PisoCalle de Santa Fe, Moncloa</td>\n",
       "      <td>Vivienda XXI alquila piso exterior de 3 dormit...</td>\n",
       "    </tr>\n",
       "    <tr>\n",
       "      <th>2</th>\n",
       "      <td>2.100 € /mes</td>\n",
       "      <td>2 habs.1 baño107 m²con ascensor y terraza</td>\n",
       "      <td>PisoPlaza de España, Moncloa</td>\n",
       "      <td>.En uno de los edificios más emblemáticos de M...</td>\n",
       "    </tr>\n",
       "    <tr>\n",
       "      <th>3</th>\n",
       "      <td>1.300 € /mes</td>\n",
       "      <td>3 habs.2 baños100 m²con ascensor y terraza</td>\n",
       "      <td>PisoCalle del Doctor Esquerdo, Retiro</td>\n",
       "      <td>Agencia inmobiliaria de MADRID - zona AVDA. CI...</td>\n",
       "    </tr>\n",
       "    <tr>\n",
       "      <th>4</th>\n",
       "      <td>1.000 € /mes</td>\n",
       "      <td>3 habs.1 baño83 m²</td>\n",
       "      <td>PisoCalle de Santa Pola, 5, Moncloa</td>\n",
       "      <td>Vivienda XXI alquila piso exterior de 3 dormit...</td>\n",
       "    </tr>\n",
       "  </tbody>\n",
       "</table>\n",
       "</div>"
      ],
      "text/plain": [
       "         Precio                             Características  \\\n",
       "0  3.200 € /mes  3 habs.2 baños107 m²con ascensor y terraza   \n",
       "1  1.150 € /mes                          3 habs.1 baño84 m²   \n",
       "2  2.100 € /mes   2 habs.1 baño107 m²con ascensor y terraza   \n",
       "3  1.300 € /mes  3 habs.2 baños100 m²con ascensor y terraza   \n",
       "4  1.000 € /mes                          3 habs.1 baño83 m²   \n",
       "\n",
       "                               Dirección  \\\n",
       "0                         ÁticoChamartín   \n",
       "1         PisoCalle de Santa Fe, Moncloa   \n",
       "2           PisoPlaza de España, Moncloa   \n",
       "3  PisoCalle del Doctor Esquerdo, Retiro   \n",
       "4    PisoCalle de Santa Pola, 5, Moncloa   \n",
       "\n",
       "                                         Descripción  \n",
       "0  Este precioso piso de 110m²  amueblado, muy lu...  \n",
       "1  Vivienda XXI alquila piso exterior de 3 dormit...  \n",
       "2  .En uno de los edificios más emblemáticos de M...  \n",
       "3  Agencia inmobiliaria de MADRID - zona AVDA. CI...  \n",
       "4  Vivienda XXI alquila piso exterior de 3 dormit...  "
      ]
     },
     "execution_count": 54,
     "metadata": {},
     "output_type": "execute_result"
    }
   ],
   "source": [
    "df_pisos.head()"
   ]
  },
  {
   "cell_type": "markdown",
   "metadata": {},
   "source": [
    "Vemos que necesitamos un poco de limpieza de datos, en el precio quitar el símbolo de € y /mes y convertirlo en integer, en características, separar número de habitaciones, baños, área y alguna característica extra, en Dirección tenemos el tipo de vivienda pega a la dirección y también eliminar duplicados."
   ]
  },
  {
   "cell_type": "code",
   "execution_count": 55,
   "metadata": {},
   "outputs": [
    {
     "name": "stdout",
     "output_type": "stream",
     "text": [
      "<class 'pandas.core.frame.DataFrame'>\n",
      "RangeIndex: 576 entries, 0 to 575\n",
      "Data columns (total 4 columns):\n",
      " #   Column           Non-Null Count  Dtype \n",
      "---  ------           --------------  ----- \n",
      " 0   Precio           576 non-null    object\n",
      " 1   Características  576 non-null    object\n",
      " 2   Dirección        576 non-null    object\n",
      " 3   Descripción      576 non-null    object\n",
      "dtypes: object(4)\n",
      "memory usage: 18.1+ KB\n"
     ]
    }
   ],
   "source": [
    "df_pisos.info()"
   ]
  },
  {
   "cell_type": "markdown",
   "metadata": {},
   "source": [
    "## Para los precios:"
   ]
  },
  {
   "cell_type": "markdown",
   "metadata": {},
   "source": [
    "Se puede resolver con strip y replace; además aprovechamos y ya lo convertimos en un integer, para poder utilizarlo como filtro más adelante en nuestro análisis"
   ]
  },
  {
   "cell_type": "code",
   "execution_count": 56,
   "metadata": {},
   "outputs": [],
   "source": [
    "Precio = []\n",
    "for price in df_pisos[\"Precio\"]:\n",
    "    precio = price.strip(\" € /mes\")\n",
    "    if precio.find('.'):\n",
    "        precio = precio.replace(\".\", \"\")\n",
    "        Precio.append(int(precio))\n",
    "        \n",
    "df_pisos[\"Price\"] = Precio"
   ]
  },
  {
   "cell_type": "markdown",
   "metadata": {},
   "source": [
    "Echamos un ojo, y, ¡perfecto!"
   ]
  },
  {
   "cell_type": "code",
   "execution_count": 57,
   "metadata": {},
   "outputs": [
    {
     "data": {
      "text/html": [
       "<div>\n",
       "<style scoped>\n",
       "    .dataframe tbody tr th:only-of-type {\n",
       "        vertical-align: middle;\n",
       "    }\n",
       "\n",
       "    .dataframe tbody tr th {\n",
       "        vertical-align: top;\n",
       "    }\n",
       "\n",
       "    .dataframe thead th {\n",
       "        text-align: right;\n",
       "    }\n",
       "</style>\n",
       "<table border=\"1\" class=\"dataframe\">\n",
       "  <thead>\n",
       "    <tr style=\"text-align: right;\">\n",
       "      <th></th>\n",
       "      <th>Precio</th>\n",
       "      <th>Características</th>\n",
       "      <th>Dirección</th>\n",
       "      <th>Descripción</th>\n",
       "      <th>Price</th>\n",
       "    </tr>\n",
       "  </thead>\n",
       "  <tbody>\n",
       "    <tr>\n",
       "      <th>0</th>\n",
       "      <td>3.200 € /mes</td>\n",
       "      <td>3 habs.2 baños107 m²con ascensor y terraza</td>\n",
       "      <td>ÁticoChamartín</td>\n",
       "      <td>Este precioso piso de 110m²  amueblado, muy lu...</td>\n",
       "      <td>3200</td>\n",
       "    </tr>\n",
       "    <tr>\n",
       "      <th>1</th>\n",
       "      <td>1.150 € /mes</td>\n",
       "      <td>3 habs.1 baño84 m²</td>\n",
       "      <td>PisoCalle de Santa Fe, Moncloa</td>\n",
       "      <td>Vivienda XXI alquila piso exterior de 3 dormit...</td>\n",
       "      <td>1150</td>\n",
       "    </tr>\n",
       "    <tr>\n",
       "      <th>2</th>\n",
       "      <td>2.100 € /mes</td>\n",
       "      <td>2 habs.1 baño107 m²con ascensor y terraza</td>\n",
       "      <td>PisoPlaza de España, Moncloa</td>\n",
       "      <td>.En uno de los edificios más emblemáticos de M...</td>\n",
       "      <td>2100</td>\n",
       "    </tr>\n",
       "    <tr>\n",
       "      <th>3</th>\n",
       "      <td>1.300 € /mes</td>\n",
       "      <td>3 habs.2 baños100 m²con ascensor y terraza</td>\n",
       "      <td>PisoCalle del Doctor Esquerdo, Retiro</td>\n",
       "      <td>Agencia inmobiliaria de MADRID - zona AVDA. CI...</td>\n",
       "      <td>1300</td>\n",
       "    </tr>\n",
       "    <tr>\n",
       "      <th>4</th>\n",
       "      <td>1.000 € /mes</td>\n",
       "      <td>3 habs.1 baño83 m²</td>\n",
       "      <td>PisoCalle de Santa Pola, 5, Moncloa</td>\n",
       "      <td>Vivienda XXI alquila piso exterior de 3 dormit...</td>\n",
       "      <td>1000</td>\n",
       "    </tr>\n",
       "  </tbody>\n",
       "</table>\n",
       "</div>"
      ],
      "text/plain": [
       "         Precio                             Características  \\\n",
       "0  3.200 € /mes  3 habs.2 baños107 m²con ascensor y terraza   \n",
       "1  1.150 € /mes                          3 habs.1 baño84 m²   \n",
       "2  2.100 € /mes   2 habs.1 baño107 m²con ascensor y terraza   \n",
       "3  1.300 € /mes  3 habs.2 baños100 m²con ascensor y terraza   \n",
       "4  1.000 € /mes                          3 habs.1 baño83 m²   \n",
       "\n",
       "                               Dirección  \\\n",
       "0                         ÁticoChamartín   \n",
       "1         PisoCalle de Santa Fe, Moncloa   \n",
       "2           PisoPlaza de España, Moncloa   \n",
       "3  PisoCalle del Doctor Esquerdo, Retiro   \n",
       "4    PisoCalle de Santa Pola, 5, Moncloa   \n",
       "\n",
       "                                         Descripción  Price  \n",
       "0  Este precioso piso de 110m²  amueblado, muy lu...   3200  \n",
       "1  Vivienda XXI alquila piso exterior de 3 dormit...   1150  \n",
       "2  .En uno de los edificios más emblemáticos de M...   2100  \n",
       "3  Agencia inmobiliaria de MADRID - zona AVDA. CI...   1300  \n",
       "4  Vivienda XXI alquila piso exterior de 3 dormit...   1000  "
      ]
     },
     "execution_count": 57,
     "metadata": {},
     "output_type": "execute_result"
    }
   ],
   "source": [
    "df_pisos.head()"
   ]
  },
  {
   "cell_type": "markdown",
   "metadata": {},
   "source": [
    "## Para las habitaciones"
   ]
  },
  {
   "cell_type": "markdown",
   "metadata": {},
   "source": [
    "Para esto se me ocurrió convertir en una lista separada por \"hab\" a cada elemento de \"Características\", siendo el primer elemento de la lista el número de habitaciones. Revisando el dataframe, si la palabra \"hab\" no existe, es porque el piso no tiene habitaciones y es un estudio, por lo que si no encuentra la palabra hab, el resultado será directamente 0. Además convertirmos estos valores en integers para poder hacer nuestro análisis más adelante"
   ]
  },
  {
   "cell_type": "code",
   "execution_count": 58,
   "metadata": {},
   "outputs": [],
   "source": [
    "Rooms = []\n",
    "for c in df_pisos[\"Características\"]:\n",
    "    if c.find(\"hab\"):\n",
    "        feat = c.replace(\"hab\", \",\")\n",
    "    if 'hab' not in c:\n",
    "        feat = '0'\n",
    "    \n",
    "    Rooms.append(int(feat[0]))"
   ]
  },
  {
   "cell_type": "code",
   "execution_count": 59,
   "metadata": {},
   "outputs": [],
   "source": [
    "df_pisos['Rooms'] = Rooms"
   ]
  },
  {
   "cell_type": "markdown",
   "metadata": {},
   "source": [
    "Comprobamos y ya tenemos el número de habitaciones en nuestro dataframe"
   ]
  },
  {
   "cell_type": "code",
   "execution_count": 60,
   "metadata": {
    "scrolled": true
   },
   "outputs": [
    {
     "data": {
      "text/html": [
       "<div>\n",
       "<style scoped>\n",
       "    .dataframe tbody tr th:only-of-type {\n",
       "        vertical-align: middle;\n",
       "    }\n",
       "\n",
       "    .dataframe tbody tr th {\n",
       "        vertical-align: top;\n",
       "    }\n",
       "\n",
       "    .dataframe thead th {\n",
       "        text-align: right;\n",
       "    }\n",
       "</style>\n",
       "<table border=\"1\" class=\"dataframe\">\n",
       "  <thead>\n",
       "    <tr style=\"text-align: right;\">\n",
       "      <th></th>\n",
       "      <th>Precio</th>\n",
       "      <th>Características</th>\n",
       "      <th>Dirección</th>\n",
       "      <th>Descripción</th>\n",
       "      <th>Price</th>\n",
       "      <th>Rooms</th>\n",
       "    </tr>\n",
       "  </thead>\n",
       "  <tbody>\n",
       "    <tr>\n",
       "      <th>0</th>\n",
       "      <td>3.200 € /mes</td>\n",
       "      <td>3 habs.2 baños107 m²con ascensor y terraza</td>\n",
       "      <td>ÁticoChamartín</td>\n",
       "      <td>Este precioso piso de 110m²  amueblado, muy lu...</td>\n",
       "      <td>3200</td>\n",
       "      <td>3</td>\n",
       "    </tr>\n",
       "    <tr>\n",
       "      <th>1</th>\n",
       "      <td>1.150 € /mes</td>\n",
       "      <td>3 habs.1 baño84 m²</td>\n",
       "      <td>PisoCalle de Santa Fe, Moncloa</td>\n",
       "      <td>Vivienda XXI alquila piso exterior de 3 dormit...</td>\n",
       "      <td>1150</td>\n",
       "      <td>3</td>\n",
       "    </tr>\n",
       "    <tr>\n",
       "      <th>2</th>\n",
       "      <td>2.100 € /mes</td>\n",
       "      <td>2 habs.1 baño107 m²con ascensor y terraza</td>\n",
       "      <td>PisoPlaza de España, Moncloa</td>\n",
       "      <td>.En uno de los edificios más emblemáticos de M...</td>\n",
       "      <td>2100</td>\n",
       "      <td>2</td>\n",
       "    </tr>\n",
       "    <tr>\n",
       "      <th>3</th>\n",
       "      <td>1.300 € /mes</td>\n",
       "      <td>3 habs.2 baños100 m²con ascensor y terraza</td>\n",
       "      <td>PisoCalle del Doctor Esquerdo, Retiro</td>\n",
       "      <td>Agencia inmobiliaria de MADRID - zona AVDA. CI...</td>\n",
       "      <td>1300</td>\n",
       "      <td>3</td>\n",
       "    </tr>\n",
       "    <tr>\n",
       "      <th>4</th>\n",
       "      <td>1.000 € /mes</td>\n",
       "      <td>3 habs.1 baño83 m²</td>\n",
       "      <td>PisoCalle de Santa Pola, 5, Moncloa</td>\n",
       "      <td>Vivienda XXI alquila piso exterior de 3 dormit...</td>\n",
       "      <td>1000</td>\n",
       "      <td>3</td>\n",
       "    </tr>\n",
       "  </tbody>\n",
       "</table>\n",
       "</div>"
      ],
      "text/plain": [
       "         Precio                             Características  \\\n",
       "0  3.200 € /mes  3 habs.2 baños107 m²con ascensor y terraza   \n",
       "1  1.150 € /mes                          3 habs.1 baño84 m²   \n",
       "2  2.100 € /mes   2 habs.1 baño107 m²con ascensor y terraza   \n",
       "3  1.300 € /mes  3 habs.2 baños100 m²con ascensor y terraza   \n",
       "4  1.000 € /mes                          3 habs.1 baño83 m²   \n",
       "\n",
       "                               Dirección  \\\n",
       "0                         ÁticoChamartín   \n",
       "1         PisoCalle de Santa Fe, Moncloa   \n",
       "2           PisoPlaza de España, Moncloa   \n",
       "3  PisoCalle del Doctor Esquerdo, Retiro   \n",
       "4    PisoCalle de Santa Pola, 5, Moncloa   \n",
       "\n",
       "                                         Descripción  Price  Rooms  \n",
       "0  Este precioso piso de 110m²  amueblado, muy lu...   3200      3  \n",
       "1  Vivienda XXI alquila piso exterior de 3 dormit...   1150      3  \n",
       "2  .En uno de los edificios más emblemáticos de M...   2100      2  \n",
       "3  Agencia inmobiliaria de MADRID - zona AVDA. CI...   1300      3  \n",
       "4  Vivienda XXI alquila piso exterior de 3 dormit...   1000      3  "
      ]
     },
     "execution_count": 60,
     "metadata": {},
     "output_type": "execute_result"
    }
   ],
   "source": [
    "df_pisos.head()"
   ]
  },
  {
   "cell_type": "markdown",
   "metadata": {},
   "source": [
    "## Para los baños"
   ]
  },
  {
   "cell_type": "code",
   "execution_count": 61,
   "metadata": {},
   "outputs": [],
   "source": [
    "Baths = []\n",
    "for c in df_pisos[\"Características\"]:\n",
    "    if c.find(\"baño\"):\n",
    "        feat = c.replace(\".\", \",\").split(',')\n",
    "        if len(feat)>=2:\n",
    "            feat2=feat[1][0]\n",
    "        else:\n",
    "            feat2=1\n",
    "    if 'baño' not in c:\n",
    "        feat2=1\n",
    "\n",
    "    Baths.append(int(feat2))"
   ]
  },
  {
   "cell_type": "code",
   "execution_count": 62,
   "metadata": {},
   "outputs": [],
   "source": [
    "df_pisos['Baths'] = Baths"
   ]
  },
  {
   "cell_type": "markdown",
   "metadata": {},
   "source": [
    "## Area del piso"
   ]
  },
  {
   "cell_type": "code",
   "execution_count": 63,
   "metadata": {},
   "outputs": [],
   "source": [
    "area = []\n",
    "for c in df_pisos[\"Características\"]:\n",
    "    indice = c.find(\"m²\")\n",
    "    try:\n",
    "        bla = int(c[indice-4]+c[indice-3]+c[indice-2])\n",
    "    except ValueError:\n",
    "        bla= int(c[indice-3]+c[indice-2])\n",
    "    area.append(bla)"
   ]
  },
  {
   "cell_type": "code",
   "execution_count": 64,
   "metadata": {},
   "outputs": [],
   "source": [
    "df_pisos['Area'] = area"
   ]
  },
  {
   "cell_type": "code",
   "execution_count": 65,
   "metadata": {},
   "outputs": [
    {
     "data": {
      "text/html": [
       "<div>\n",
       "<style scoped>\n",
       "    .dataframe tbody tr th:only-of-type {\n",
       "        vertical-align: middle;\n",
       "    }\n",
       "\n",
       "    .dataframe tbody tr th {\n",
       "        vertical-align: top;\n",
       "    }\n",
       "\n",
       "    .dataframe thead th {\n",
       "        text-align: right;\n",
       "    }\n",
       "</style>\n",
       "<table border=\"1\" class=\"dataframe\">\n",
       "  <thead>\n",
       "    <tr style=\"text-align: right;\">\n",
       "      <th></th>\n",
       "      <th>Precio</th>\n",
       "      <th>Características</th>\n",
       "      <th>Dirección</th>\n",
       "      <th>Descripción</th>\n",
       "      <th>Price</th>\n",
       "      <th>Rooms</th>\n",
       "      <th>Baths</th>\n",
       "      <th>Area</th>\n",
       "    </tr>\n",
       "  </thead>\n",
       "  <tbody>\n",
       "    <tr>\n",
       "      <th>0</th>\n",
       "      <td>3.200 € /mes</td>\n",
       "      <td>3 habs.2 baños107 m²con ascensor y terraza</td>\n",
       "      <td>ÁticoChamartín</td>\n",
       "      <td>Este precioso piso de 110m²  amueblado, muy lu...</td>\n",
       "      <td>3200</td>\n",
       "      <td>3</td>\n",
       "      <td>2</td>\n",
       "      <td>107</td>\n",
       "    </tr>\n",
       "    <tr>\n",
       "      <th>1</th>\n",
       "      <td>1.150 € /mes</td>\n",
       "      <td>3 habs.1 baño84 m²</td>\n",
       "      <td>PisoCalle de Santa Fe, Moncloa</td>\n",
       "      <td>Vivienda XXI alquila piso exterior de 3 dormit...</td>\n",
       "      <td>1150</td>\n",
       "      <td>3</td>\n",
       "      <td>1</td>\n",
       "      <td>84</td>\n",
       "    </tr>\n",
       "    <tr>\n",
       "      <th>2</th>\n",
       "      <td>2.100 € /mes</td>\n",
       "      <td>2 habs.1 baño107 m²con ascensor y terraza</td>\n",
       "      <td>PisoPlaza de España, Moncloa</td>\n",
       "      <td>.En uno de los edificios más emblemáticos de M...</td>\n",
       "      <td>2100</td>\n",
       "      <td>2</td>\n",
       "      <td>1</td>\n",
       "      <td>107</td>\n",
       "    </tr>\n",
       "    <tr>\n",
       "      <th>3</th>\n",
       "      <td>1.300 € /mes</td>\n",
       "      <td>3 habs.2 baños100 m²con ascensor y terraza</td>\n",
       "      <td>PisoCalle del Doctor Esquerdo, Retiro</td>\n",
       "      <td>Agencia inmobiliaria de MADRID - zona AVDA. CI...</td>\n",
       "      <td>1300</td>\n",
       "      <td>3</td>\n",
       "      <td>2</td>\n",
       "      <td>100</td>\n",
       "    </tr>\n",
       "    <tr>\n",
       "      <th>4</th>\n",
       "      <td>1.000 € /mes</td>\n",
       "      <td>3 habs.1 baño83 m²</td>\n",
       "      <td>PisoCalle de Santa Pola, 5, Moncloa</td>\n",
       "      <td>Vivienda XXI alquila piso exterior de 3 dormit...</td>\n",
       "      <td>1000</td>\n",
       "      <td>3</td>\n",
       "      <td>1</td>\n",
       "      <td>83</td>\n",
       "    </tr>\n",
       "  </tbody>\n",
       "</table>\n",
       "</div>"
      ],
      "text/plain": [
       "         Precio                             Características  \\\n",
       "0  3.200 € /mes  3 habs.2 baños107 m²con ascensor y terraza   \n",
       "1  1.150 € /mes                          3 habs.1 baño84 m²   \n",
       "2  2.100 € /mes   2 habs.1 baño107 m²con ascensor y terraza   \n",
       "3  1.300 € /mes  3 habs.2 baños100 m²con ascensor y terraza   \n",
       "4  1.000 € /mes                          3 habs.1 baño83 m²   \n",
       "\n",
       "                               Dirección  \\\n",
       "0                         ÁticoChamartín   \n",
       "1         PisoCalle de Santa Fe, Moncloa   \n",
       "2           PisoPlaza de España, Moncloa   \n",
       "3  PisoCalle del Doctor Esquerdo, Retiro   \n",
       "4    PisoCalle de Santa Pola, 5, Moncloa   \n",
       "\n",
       "                                         Descripción  Price  Rooms  Baths  \\\n",
       "0  Este precioso piso de 110m²  amueblado, muy lu...   3200      3      2   \n",
       "1  Vivienda XXI alquila piso exterior de 3 dormit...   1150      3      1   \n",
       "2  .En uno de los edificios más emblemáticos de M...   2100      2      1   \n",
       "3  Agencia inmobiliaria de MADRID - zona AVDA. CI...   1300      3      2   \n",
       "4  Vivienda XXI alquila piso exterior de 3 dormit...   1000      3      1   \n",
       "\n",
       "   Area  \n",
       "0   107  \n",
       "1    84  \n",
       "2   107  \n",
       "3   100  \n",
       "4    83  "
      ]
     },
     "execution_count": 65,
     "metadata": {},
     "output_type": "execute_result"
    }
   ],
   "source": [
    "df_pisos.head()"
   ]
  },
  {
   "cell_type": "markdown",
   "metadata": {},
   "source": [
    "## ¿Ascensor?"
   ]
  },
  {
   "cell_type": "code",
   "execution_count": 66,
   "metadata": {},
   "outputs": [],
   "source": [
    "elevator = []\n",
    "for c in df_pisos[\"Características\"]:\n",
    "    if 'ascensor' not in c:\n",
    "        feat= 0\n",
    "    else:\n",
    "        feat = 1\n",
    "    elevator.append(feat)"
   ]
  },
  {
   "cell_type": "code",
   "execution_count": 67,
   "metadata": {},
   "outputs": [],
   "source": [
    "df_pisos['Elevator'] = elevator"
   ]
  },
  {
   "cell_type": "markdown",
   "metadata": {},
   "source": [
    "## Parking"
   ]
  },
  {
   "cell_type": "code",
   "execution_count": 68,
   "metadata": {},
   "outputs": [],
   "source": [
    "parking = []\n",
    "for c in df_pisos[\"Características\"]:\n",
    "    if 'parking' not in c:\n",
    "        feat= 0\n",
    "    else:\n",
    "        feat = 1\n",
    "    parking.append(feat)"
   ]
  },
  {
   "cell_type": "code",
   "execution_count": 69,
   "metadata": {},
   "outputs": [],
   "source": [
    "df_pisos['Parking'] = parking"
   ]
  },
  {
   "cell_type": "code",
   "execution_count": 70,
   "metadata": {},
   "outputs": [],
   "source": [
    "terrace = []\n",
    "for c in df_pisos[\"Características\"]:\n",
    "    if 'terraza' not in c:\n",
    "        feat = 0\n",
    "    else:\n",
    "        feat = 1\n",
    "    terrace.append(feat)"
   ]
  },
  {
   "cell_type": "code",
   "execution_count": 77,
   "metadata": {},
   "outputs": [],
   "source": [
    "df_pisos['Terrace'] = terrace"
   ]
  },
  {
   "cell_type": "markdown",
   "metadata": {},
   "source": [
    "## ¿Piso o Estudio?"
   ]
  },
  {
   "cell_type": "code",
   "execution_count": 71,
   "metadata": {},
   "outputs": [],
   "source": [
    "tipo = []\n",
    "for c in df_pisos[\"Dirección\"]:\n",
    "    if 'Estudio' not in c:\n",
    "        feat= 1\n",
    "    else:\n",
    "        feat = 0\n",
    "    tipo.append(feat)"
   ]
  },
  {
   "cell_type": "code",
   "execution_count": 72,
   "metadata": {},
   "outputs": [],
   "source": [
    "df_pisos['Type'] = tipo "
   ]
  },
  {
   "cell_type": "code",
   "execution_count": 73,
   "metadata": {},
   "outputs": [],
   "source": [
    "barrio = []\n",
    "barrios = ['Arganzuela', 'Barajas', 'Carabanchel', 'Centro', 'Chamartín','Chamberí', 'Ciudad Lineal', 'Fuencarral', 'Hortaleza',\n",
    "           'Latina', 'Moncloa', 'Puente de Vallecas', 'Retiro', 'Salamanca', 'San Blas', 'Tetúan', 'Usera', 'Vicávaro']"
   ]
  },
  {
   "cell_type": "code",
   "execution_count": 74,
   "metadata": {},
   "outputs": [],
   "source": [
    "for c in df_pisos[\"Dirección\"]:\n",
    "    for b in barrios:\n",
    "        if b in c:\n",
    "            feat=b\n",
    "    barrio.append(feat)"
   ]
  },
  {
   "cell_type": "code",
   "execution_count": 75,
   "metadata": {},
   "outputs": [],
   "source": [
    "df_pisos['NB'] = barrio"
   ]
  },
  {
   "cell_type": "code",
   "execution_count": 78,
   "metadata": {},
   "outputs": [
    {
     "data": {
      "text/html": [
       "<div>\n",
       "<style scoped>\n",
       "    .dataframe tbody tr th:only-of-type {\n",
       "        vertical-align: middle;\n",
       "    }\n",
       "\n",
       "    .dataframe tbody tr th {\n",
       "        vertical-align: top;\n",
       "    }\n",
       "\n",
       "    .dataframe thead th {\n",
       "        text-align: right;\n",
       "    }\n",
       "</style>\n",
       "<table border=\"1\" class=\"dataframe\">\n",
       "  <thead>\n",
       "    <tr style=\"text-align: right;\">\n",
       "      <th></th>\n",
       "      <th>Precio</th>\n",
       "      <th>Características</th>\n",
       "      <th>Dirección</th>\n",
       "      <th>Descripción</th>\n",
       "      <th>Price</th>\n",
       "      <th>Rooms</th>\n",
       "      <th>Baths</th>\n",
       "      <th>Area</th>\n",
       "      <th>Elevator</th>\n",
       "      <th>Parking</th>\n",
       "      <th>Type</th>\n",
       "      <th>NB</th>\n",
       "      <th>Terrace</th>\n",
       "    </tr>\n",
       "  </thead>\n",
       "  <tbody>\n",
       "    <tr>\n",
       "      <th>0</th>\n",
       "      <td>3.200 € /mes</td>\n",
       "      <td>3 habs.2 baños107 m²con ascensor y terraza</td>\n",
       "      <td>ÁticoChamartín</td>\n",
       "      <td>Este precioso piso de 110m²  amueblado, muy lu...</td>\n",
       "      <td>3200</td>\n",
       "      <td>3</td>\n",
       "      <td>2</td>\n",
       "      <td>107</td>\n",
       "      <td>1</td>\n",
       "      <td>0</td>\n",
       "      <td>1</td>\n",
       "      <td>Chamartín</td>\n",
       "      <td>1</td>\n",
       "    </tr>\n",
       "    <tr>\n",
       "      <th>1</th>\n",
       "      <td>1.150 € /mes</td>\n",
       "      <td>3 habs.1 baño84 m²</td>\n",
       "      <td>PisoCalle de Santa Fe, Moncloa</td>\n",
       "      <td>Vivienda XXI alquila piso exterior de 3 dormit...</td>\n",
       "      <td>1150</td>\n",
       "      <td>3</td>\n",
       "      <td>1</td>\n",
       "      <td>84</td>\n",
       "      <td>0</td>\n",
       "      <td>0</td>\n",
       "      <td>1</td>\n",
       "      <td>Moncloa</td>\n",
       "      <td>0</td>\n",
       "    </tr>\n",
       "    <tr>\n",
       "      <th>2</th>\n",
       "      <td>2.100 € /mes</td>\n",
       "      <td>2 habs.1 baño107 m²con ascensor y terraza</td>\n",
       "      <td>PisoPlaza de España, Moncloa</td>\n",
       "      <td>.En uno de los edificios más emblemáticos de M...</td>\n",
       "      <td>2100</td>\n",
       "      <td>2</td>\n",
       "      <td>1</td>\n",
       "      <td>107</td>\n",
       "      <td>1</td>\n",
       "      <td>0</td>\n",
       "      <td>1</td>\n",
       "      <td>Moncloa</td>\n",
       "      <td>1</td>\n",
       "    </tr>\n",
       "    <tr>\n",
       "      <th>3</th>\n",
       "      <td>1.300 € /mes</td>\n",
       "      <td>3 habs.2 baños100 m²con ascensor y terraza</td>\n",
       "      <td>PisoCalle del Doctor Esquerdo, Retiro</td>\n",
       "      <td>Agencia inmobiliaria de MADRID - zona AVDA. CI...</td>\n",
       "      <td>1300</td>\n",
       "      <td>3</td>\n",
       "      <td>2</td>\n",
       "      <td>100</td>\n",
       "      <td>1</td>\n",
       "      <td>0</td>\n",
       "      <td>1</td>\n",
       "      <td>Retiro</td>\n",
       "      <td>1</td>\n",
       "    </tr>\n",
       "    <tr>\n",
       "      <th>4</th>\n",
       "      <td>1.000 € /mes</td>\n",
       "      <td>3 habs.1 baño83 m²</td>\n",
       "      <td>PisoCalle de Santa Pola, 5, Moncloa</td>\n",
       "      <td>Vivienda XXI alquila piso exterior de 3 dormit...</td>\n",
       "      <td>1000</td>\n",
       "      <td>3</td>\n",
       "      <td>1</td>\n",
       "      <td>83</td>\n",
       "      <td>0</td>\n",
       "      <td>0</td>\n",
       "      <td>1</td>\n",
       "      <td>Moncloa</td>\n",
       "      <td>0</td>\n",
       "    </tr>\n",
       "  </tbody>\n",
       "</table>\n",
       "</div>"
      ],
      "text/plain": [
       "         Precio                             Características  \\\n",
       "0  3.200 € /mes  3 habs.2 baños107 m²con ascensor y terraza   \n",
       "1  1.150 € /mes                          3 habs.1 baño84 m²   \n",
       "2  2.100 € /mes   2 habs.1 baño107 m²con ascensor y terraza   \n",
       "3  1.300 € /mes  3 habs.2 baños100 m²con ascensor y terraza   \n",
       "4  1.000 € /mes                          3 habs.1 baño83 m²   \n",
       "\n",
       "                               Dirección  \\\n",
       "0                         ÁticoChamartín   \n",
       "1         PisoCalle de Santa Fe, Moncloa   \n",
       "2           PisoPlaza de España, Moncloa   \n",
       "3  PisoCalle del Doctor Esquerdo, Retiro   \n",
       "4    PisoCalle de Santa Pola, 5, Moncloa   \n",
       "\n",
       "                                         Descripción  Price  Rooms  Baths  \\\n",
       "0  Este precioso piso de 110m²  amueblado, muy lu...   3200      3      2   \n",
       "1  Vivienda XXI alquila piso exterior de 3 dormit...   1150      3      1   \n",
       "2  .En uno de los edificios más emblemáticos de M...   2100      2      1   \n",
       "3  Agencia inmobiliaria de MADRID - zona AVDA. CI...   1300      3      2   \n",
       "4  Vivienda XXI alquila piso exterior de 3 dormit...   1000      3      1   \n",
       "\n",
       "   Area  Elevator  Parking  Type         NB  Terrace  \n",
       "0   107         1        0     1  Chamartín        1  \n",
       "1    84         0        0     1    Moncloa        0  \n",
       "2   107         1        0     1    Moncloa        1  \n",
       "3   100         1        0     1     Retiro        1  \n",
       "4    83         0        0     1    Moncloa        0  "
      ]
     },
     "execution_count": 78,
     "metadata": {},
     "output_type": "execute_result"
    }
   ],
   "source": [
    "df_pisos.head()"
   ]
  },
  {
   "cell_type": "markdown",
   "metadata": {},
   "source": [
    "Ahora vamos a eliminar las columnas que no nos sirven"
   ]
  },
  {
   "cell_type": "code",
   "execution_count": 79,
   "metadata": {},
   "outputs": [],
   "source": [
    "df_pisos = df_pisos.drop(['Dirección','Características', 'Precio'], axis=1)"
   ]
  },
  {
   "cell_type": "code",
   "execution_count": 80,
   "metadata": {},
   "outputs": [
    {
     "data": {
      "text/html": [
       "<div>\n",
       "<style scoped>\n",
       "    .dataframe tbody tr th:only-of-type {\n",
       "        vertical-align: middle;\n",
       "    }\n",
       "\n",
       "    .dataframe tbody tr th {\n",
       "        vertical-align: top;\n",
       "    }\n",
       "\n",
       "    .dataframe thead th {\n",
       "        text-align: right;\n",
       "    }\n",
       "</style>\n",
       "<table border=\"1\" class=\"dataframe\">\n",
       "  <thead>\n",
       "    <tr style=\"text-align: right;\">\n",
       "      <th></th>\n",
       "      <th>Descripción</th>\n",
       "      <th>Price</th>\n",
       "      <th>Rooms</th>\n",
       "      <th>Baths</th>\n",
       "      <th>Area</th>\n",
       "      <th>Elevator</th>\n",
       "      <th>Parking</th>\n",
       "      <th>Type</th>\n",
       "      <th>NB</th>\n",
       "      <th>Terrace</th>\n",
       "    </tr>\n",
       "  </thead>\n",
       "  <tbody>\n",
       "    <tr>\n",
       "      <th>0</th>\n",
       "      <td>Este precioso piso de 110m²  amueblado, muy lu...</td>\n",
       "      <td>3200</td>\n",
       "      <td>3</td>\n",
       "      <td>2</td>\n",
       "      <td>107</td>\n",
       "      <td>1</td>\n",
       "      <td>0</td>\n",
       "      <td>1</td>\n",
       "      <td>Chamartín</td>\n",
       "      <td>1</td>\n",
       "    </tr>\n",
       "    <tr>\n",
       "      <th>1</th>\n",
       "      <td>Vivienda XXI alquila piso exterior de 3 dormit...</td>\n",
       "      <td>1150</td>\n",
       "      <td>3</td>\n",
       "      <td>1</td>\n",
       "      <td>84</td>\n",
       "      <td>0</td>\n",
       "      <td>0</td>\n",
       "      <td>1</td>\n",
       "      <td>Moncloa</td>\n",
       "      <td>0</td>\n",
       "    </tr>\n",
       "    <tr>\n",
       "      <th>2</th>\n",
       "      <td>.En uno de los edificios más emblemáticos de M...</td>\n",
       "      <td>2100</td>\n",
       "      <td>2</td>\n",
       "      <td>1</td>\n",
       "      <td>107</td>\n",
       "      <td>1</td>\n",
       "      <td>0</td>\n",
       "      <td>1</td>\n",
       "      <td>Moncloa</td>\n",
       "      <td>1</td>\n",
       "    </tr>\n",
       "    <tr>\n",
       "      <th>3</th>\n",
       "      <td>Agencia inmobiliaria de MADRID - zona AVDA. CI...</td>\n",
       "      <td>1300</td>\n",
       "      <td>3</td>\n",
       "      <td>2</td>\n",
       "      <td>100</td>\n",
       "      <td>1</td>\n",
       "      <td>0</td>\n",
       "      <td>1</td>\n",
       "      <td>Retiro</td>\n",
       "      <td>1</td>\n",
       "    </tr>\n",
       "    <tr>\n",
       "      <th>4</th>\n",
       "      <td>Vivienda XXI alquila piso exterior de 3 dormit...</td>\n",
       "      <td>1000</td>\n",
       "      <td>3</td>\n",
       "      <td>1</td>\n",
       "      <td>83</td>\n",
       "      <td>0</td>\n",
       "      <td>0</td>\n",
       "      <td>1</td>\n",
       "      <td>Moncloa</td>\n",
       "      <td>0</td>\n",
       "    </tr>\n",
       "  </tbody>\n",
       "</table>\n",
       "</div>"
      ],
      "text/plain": [
       "                                         Descripción  Price  Rooms  Baths  \\\n",
       "0  Este precioso piso de 110m²  amueblado, muy lu...   3200      3      2   \n",
       "1  Vivienda XXI alquila piso exterior de 3 dormit...   1150      3      1   \n",
       "2  .En uno de los edificios más emblemáticos de M...   2100      2      1   \n",
       "3  Agencia inmobiliaria de MADRID - zona AVDA. CI...   1300      3      2   \n",
       "4  Vivienda XXI alquila piso exterior de 3 dormit...   1000      3      1   \n",
       "\n",
       "   Area  Elevator  Parking  Type         NB  Terrace  \n",
       "0   107         1        0     1  Chamartín        1  \n",
       "1    84         0        0     1    Moncloa        0  \n",
       "2   107         1        0     1    Moncloa        1  \n",
       "3   100         1        0     1     Retiro        1  \n",
       "4    83         0        0     1    Moncloa        0  "
      ]
     },
     "execution_count": 80,
     "metadata": {},
     "output_type": "execute_result"
    }
   ],
   "source": [
    "df_pisos.head()"
   ]
  },
  {
   "cell_type": "markdown",
   "metadata": {},
   "source": [
    "# Tercera parte"
   ]
  },
  {
   "cell_type": "markdown",
   "metadata": {},
   "source": [
    "Y ahora, ¡manos a la obra!, ¿qué es lo que queremos averiguar de estos datos? Tenemos: Precio, número de habitaciones, número de baños, si tiene o no ascensor, si tiene o no plaza de garaje si es estudio o piso completo (aunque eso lo podemos deducir también con el número de habitaciones) y el barrio al que pertenece el piso"
   ]
  },
  {
   "cell_type": "code",
   "execution_count": 81,
   "metadata": {},
   "outputs": [
    {
     "name": "stdout",
     "output_type": "stream",
     "text": [
      "<class 'pandas.core.frame.DataFrame'>\n",
      "RangeIndex: 576 entries, 0 to 575\n",
      "Data columns (total 10 columns):\n",
      " #   Column       Non-Null Count  Dtype \n",
      "---  ------       --------------  ----- \n",
      " 0   Descripción  576 non-null    object\n",
      " 1   Price        576 non-null    int64 \n",
      " 2   Rooms        576 non-null    int64 \n",
      " 3   Baths        576 non-null    int64 \n",
      " 4   Area         576 non-null    int64 \n",
      " 5   Elevator     576 non-null    int64 \n",
      " 6   Parking      576 non-null    int64 \n",
      " 7   Type         576 non-null    int64 \n",
      " 8   NB           576 non-null    object\n",
      " 9   Terrace      576 non-null    int64 \n",
      "dtypes: int64(8), object(2)\n",
      "memory usage: 45.1+ KB\n"
     ]
    }
   ],
   "source": [
    "df_pisos.info()"
   ]
  },
  {
   "cell_type": "markdown",
   "metadata": {},
   "source": [
    "## Revisando duplicados"
   ]
  },
  {
   "cell_type": "markdown",
   "metadata": {},
   "source": [
    "Antes de profundizar mucho en nuestro dataset, debemos cerciorarnos de que no haya duplicados, para ellos utilizaré duplicated(), que marca como `True` todas aquellas filas (registros) que tienen el mismo valor en todos sus campos (marcandolas como `False` en caso contrario). Si quisiéramos solo centrarnos en algún campo en concreto le pasaríamos a `duplicated` una lista con los nombres de los campos a tomar en consideración:  `duplicated('campo1')` ó `duplicated(['campo1','campo2'...])`."
   ]
  },
  {
   "cell_type": "code",
   "execution_count": 82,
   "metadata": {},
   "outputs": [
    {
     "data": {
      "text/html": [
       "<div>\n",
       "<style scoped>\n",
       "    .dataframe tbody tr th:only-of-type {\n",
       "        vertical-align: middle;\n",
       "    }\n",
       "\n",
       "    .dataframe tbody tr th {\n",
       "        vertical-align: top;\n",
       "    }\n",
       "\n",
       "    .dataframe thead th {\n",
       "        text-align: right;\n",
       "    }\n",
       "</style>\n",
       "<table border=\"1\" class=\"dataframe\">\n",
       "  <thead>\n",
       "    <tr style=\"text-align: right;\">\n",
       "      <th></th>\n",
       "      <th>Descripción</th>\n",
       "      <th>Price</th>\n",
       "      <th>Rooms</th>\n",
       "      <th>Baths</th>\n",
       "      <th>Area</th>\n",
       "      <th>Elevator</th>\n",
       "      <th>Parking</th>\n",
       "      <th>Type</th>\n",
       "      <th>NB</th>\n",
       "      <th>Terrace</th>\n",
       "    </tr>\n",
       "  </thead>\n",
       "  <tbody>\n",
       "    <tr>\n",
       "      <th>0</th>\n",
       "      <td>Este precioso piso de 110m²  amueblado, muy lu...</td>\n",
       "      <td>3200</td>\n",
       "      <td>3</td>\n",
       "      <td>2</td>\n",
       "      <td>107</td>\n",
       "      <td>1</td>\n",
       "      <td>0</td>\n",
       "      <td>1</td>\n",
       "      <td>Chamartín</td>\n",
       "      <td>1</td>\n",
       "    </tr>\n",
       "    <tr>\n",
       "      <th>1</th>\n",
       "      <td>Vivienda XXI alquila piso exterior de 3 dormit...</td>\n",
       "      <td>1150</td>\n",
       "      <td>3</td>\n",
       "      <td>1</td>\n",
       "      <td>84</td>\n",
       "      <td>0</td>\n",
       "      <td>0</td>\n",
       "      <td>1</td>\n",
       "      <td>Moncloa</td>\n",
       "      <td>0</td>\n",
       "    </tr>\n",
       "    <tr>\n",
       "      <th>2</th>\n",
       "      <td>.En uno de los edificios más emblemáticos de M...</td>\n",
       "      <td>2100</td>\n",
       "      <td>2</td>\n",
       "      <td>1</td>\n",
       "      <td>107</td>\n",
       "      <td>1</td>\n",
       "      <td>0</td>\n",
       "      <td>1</td>\n",
       "      <td>Moncloa</td>\n",
       "      <td>1</td>\n",
       "    </tr>\n",
       "    <tr>\n",
       "      <th>3</th>\n",
       "      <td>Agencia inmobiliaria de MADRID - zona AVDA. CI...</td>\n",
       "      <td>1300</td>\n",
       "      <td>3</td>\n",
       "      <td>2</td>\n",
       "      <td>100</td>\n",
       "      <td>1</td>\n",
       "      <td>0</td>\n",
       "      <td>1</td>\n",
       "      <td>Retiro</td>\n",
       "      <td>1</td>\n",
       "    </tr>\n",
       "    <tr>\n",
       "      <th>4</th>\n",
       "      <td>Vivienda XXI alquila piso exterior de 3 dormit...</td>\n",
       "      <td>1000</td>\n",
       "      <td>3</td>\n",
       "      <td>1</td>\n",
       "      <td>83</td>\n",
       "      <td>0</td>\n",
       "      <td>0</td>\n",
       "      <td>1</td>\n",
       "      <td>Moncloa</td>\n",
       "      <td>0</td>\n",
       "    </tr>\n",
       "    <tr>\n",
       "      <th>...</th>\n",
       "      <td>...</td>\n",
       "      <td>...</td>\n",
       "      <td>...</td>\n",
       "      <td>...</td>\n",
       "      <td>...</td>\n",
       "      <td>...</td>\n",
       "      <td>...</td>\n",
       "      <td>...</td>\n",
       "      <td>...</td>\n",
       "      <td>...</td>\n",
       "    </tr>\n",
       "    <tr>\n",
       "      <th>558</th>\n",
       "      <td>\"\"Agencia inmobiliaria de Madrid - zona Avda. ...</td>\n",
       "      <td>1300</td>\n",
       "      <td>3</td>\n",
       "      <td>2</td>\n",
       "      <td>100</td>\n",
       "      <td>1</td>\n",
       "      <td>0</td>\n",
       "      <td>1</td>\n",
       "      <td>Retiro</td>\n",
       "      <td>0</td>\n",
       "    </tr>\n",
       "    <tr>\n",
       "      <th>563</th>\n",
       "      <td>CONSORCIO REAL ESTATE ÓPERA ALQUILA última pla...</td>\n",
       "      <td>1150</td>\n",
       "      <td>2</td>\n",
       "      <td>1</td>\n",
       "      <td>62</td>\n",
       "      <td>1</td>\n",
       "      <td>0</td>\n",
       "      <td>1</td>\n",
       "      <td>Centro</td>\n",
       "      <td>0</td>\n",
       "    </tr>\n",
       "    <tr>\n",
       "      <th>567</th>\n",
       "      <td>Vivienda XXI alquila piso exterior de 3 dormit...</td>\n",
       "      <td>1150</td>\n",
       "      <td>3</td>\n",
       "      <td>1</td>\n",
       "      <td>84</td>\n",
       "      <td>0</td>\n",
       "      <td>0</td>\n",
       "      <td>1</td>\n",
       "      <td>Moncloa</td>\n",
       "      <td>0</td>\n",
       "    </tr>\n",
       "    <tr>\n",
       "      <th>568</th>\n",
       "      <td>\"\"Agencia inmobiliaria de Madrid - zona Avda. ...</td>\n",
       "      <td>1300</td>\n",
       "      <td>3</td>\n",
       "      <td>2</td>\n",
       "      <td>100</td>\n",
       "      <td>1</td>\n",
       "      <td>0</td>\n",
       "      <td>1</td>\n",
       "      <td>Retiro</td>\n",
       "      <td>0</td>\n",
       "    </tr>\n",
       "    <tr>\n",
       "      <th>569</th>\n",
       "      <td>GESPAIN ofrecer en exclusiva. FANTÁSTICO.  Pis...</td>\n",
       "      <td>850</td>\n",
       "      <td>3</td>\n",
       "      <td>1</td>\n",
       "      <td>63</td>\n",
       "      <td>1</td>\n",
       "      <td>0</td>\n",
       "      <td>1</td>\n",
       "      <td>Latina</td>\n",
       "      <td>0</td>\n",
       "    </tr>\n",
       "  </tbody>\n",
       "</table>\n",
       "<p>515 rows × 10 columns</p>\n",
       "</div>"
      ],
      "text/plain": [
       "                                           Descripción  Price  Rooms  Baths  \\\n",
       "0    Este precioso piso de 110m²  amueblado, muy lu...   3200      3      2   \n",
       "1    Vivienda XXI alquila piso exterior de 3 dormit...   1150      3      1   \n",
       "2    .En uno de los edificios más emblemáticos de M...   2100      2      1   \n",
       "3    Agencia inmobiliaria de MADRID - zona AVDA. CI...   1300      3      2   \n",
       "4    Vivienda XXI alquila piso exterior de 3 dormit...   1000      3      1   \n",
       "..                                                 ...    ...    ...    ...   \n",
       "558  \"\"Agencia inmobiliaria de Madrid - zona Avda. ...   1300      3      2   \n",
       "563  CONSORCIO REAL ESTATE ÓPERA ALQUILA última pla...   1150      2      1   \n",
       "567  Vivienda XXI alquila piso exterior de 3 dormit...   1150      3      1   \n",
       "568  \"\"Agencia inmobiliaria de Madrid - zona Avda. ...   1300      3      2   \n",
       "569  GESPAIN ofrecer en exclusiva. FANTÁSTICO.  Pis...    850      3      1   \n",
       "\n",
       "     Area  Elevator  Parking  Type         NB  Terrace  \n",
       "0     107         1        0     1  Chamartín        1  \n",
       "1      84         0        0     1    Moncloa        0  \n",
       "2     107         1        0     1    Moncloa        1  \n",
       "3     100         1        0     1     Retiro        1  \n",
       "4      83         0        0     1    Moncloa        0  \n",
       "..    ...       ...      ...   ...        ...      ...  \n",
       "558   100         1        0     1     Retiro        0  \n",
       "563    62         1        0     1     Centro        0  \n",
       "567    84         0        0     1    Moncloa        0  \n",
       "568   100         1        0     1     Retiro        0  \n",
       "569    63         1        0     1     Latina        0  \n",
       "\n",
       "[515 rows x 10 columns]"
      ]
     },
     "execution_count": 82,
     "metadata": {},
     "output_type": "execute_result"
    }
   ],
   "source": [
    "df_pisos[df_pisos.duplicated(keep='last')]"
   ]
  },
  {
   "cell_type": "markdown",
   "metadata": {},
   "source": [
    "Lo siguiente sería eliminar los duplicados detectados, para ello utilizaríamos la sentencia `drop_duplicates()` indicando mediante el parámetro `keep` si queremos preservar la primera aparición (`'first'`, comportamiento por defecto), la última (`'last'`) ó eliminar todo duplicado (`False`). Además, el parámetro `inplace` permitirá que la eliminación de duplicados se haga in situ, sobre el propio dataframe sin necesidad de asignar el resultado de la función a un nuevo dataframe. Este parámetro es característico de todo método de `pandas` que conlleve posibles modificaciones del dataframe."
   ]
  },
  {
   "cell_type": "code",
   "execution_count": 83,
   "metadata": {},
   "outputs": [],
   "source": [
    "df_pisos.drop_duplicates(inplace=True)"
   ]
  },
  {
   "cell_type": "markdown",
   "metadata": {},
   "source": [
    "Para que no quede ningún hueco en el indexado, vamos a reiniciar el índice con reset_index()"
   ]
  },
  {
   "cell_type": "code",
   "execution_count": 84,
   "metadata": {},
   "outputs": [],
   "source": [
    "df_pisos.reset_index(drop=True, inplace=True)"
   ]
  },
  {
   "cell_type": "markdown",
   "metadata": {},
   "source": [
    "Y como siempre hacemos una pequeña comprobación para confirmar de que no la hemos liado"
   ]
  },
  {
   "cell_type": "code",
   "execution_count": 85,
   "metadata": {
    "scrolled": false
   },
   "outputs": [
    {
     "data": {
      "text/html": [
       "<div>\n",
       "<style scoped>\n",
       "    .dataframe tbody tr th:only-of-type {\n",
       "        vertical-align: middle;\n",
       "    }\n",
       "\n",
       "    .dataframe tbody tr th {\n",
       "        vertical-align: top;\n",
       "    }\n",
       "\n",
       "    .dataframe thead th {\n",
       "        text-align: right;\n",
       "    }\n",
       "</style>\n",
       "<table border=\"1\" class=\"dataframe\">\n",
       "  <thead>\n",
       "    <tr style=\"text-align: right;\">\n",
       "      <th></th>\n",
       "      <th>Descripción</th>\n",
       "      <th>Price</th>\n",
       "      <th>Rooms</th>\n",
       "      <th>Baths</th>\n",
       "      <th>Area</th>\n",
       "      <th>Elevator</th>\n",
       "      <th>Parking</th>\n",
       "      <th>Type</th>\n",
       "      <th>NB</th>\n",
       "      <th>Terrace</th>\n",
       "    </tr>\n",
       "  </thead>\n",
       "  <tbody>\n",
       "    <tr>\n",
       "      <th>0</th>\n",
       "      <td>Este precioso piso de 110m²  amueblado, muy lu...</td>\n",
       "      <td>3200</td>\n",
       "      <td>3</td>\n",
       "      <td>2</td>\n",
       "      <td>107</td>\n",
       "      <td>1</td>\n",
       "      <td>0</td>\n",
       "      <td>1</td>\n",
       "      <td>Chamartín</td>\n",
       "      <td>1</td>\n",
       "    </tr>\n",
       "    <tr>\n",
       "      <th>1</th>\n",
       "      <td>Vivienda XXI alquila piso exterior de 3 dormit...</td>\n",
       "      <td>1150</td>\n",
       "      <td>3</td>\n",
       "      <td>1</td>\n",
       "      <td>84</td>\n",
       "      <td>0</td>\n",
       "      <td>0</td>\n",
       "      <td>1</td>\n",
       "      <td>Moncloa</td>\n",
       "      <td>0</td>\n",
       "    </tr>\n",
       "    <tr>\n",
       "      <th>2</th>\n",
       "      <td>.En uno de los edificios más emblemáticos de M...</td>\n",
       "      <td>2100</td>\n",
       "      <td>2</td>\n",
       "      <td>1</td>\n",
       "      <td>107</td>\n",
       "      <td>1</td>\n",
       "      <td>0</td>\n",
       "      <td>1</td>\n",
       "      <td>Moncloa</td>\n",
       "      <td>1</td>\n",
       "    </tr>\n",
       "    <tr>\n",
       "      <th>3</th>\n",
       "      <td>Agencia inmobiliaria de MADRID - zona AVDA. CI...</td>\n",
       "      <td>1300</td>\n",
       "      <td>3</td>\n",
       "      <td>2</td>\n",
       "      <td>100</td>\n",
       "      <td>1</td>\n",
       "      <td>0</td>\n",
       "      <td>1</td>\n",
       "      <td>Retiro</td>\n",
       "      <td>1</td>\n",
       "    </tr>\n",
       "    <tr>\n",
       "      <th>4</th>\n",
       "      <td>Vivienda XXI alquila piso exterior de 3 dormit...</td>\n",
       "      <td>1000</td>\n",
       "      <td>3</td>\n",
       "      <td>1</td>\n",
       "      <td>83</td>\n",
       "      <td>0</td>\n",
       "      <td>0</td>\n",
       "      <td>1</td>\n",
       "      <td>Moncloa</td>\n",
       "      <td>0</td>\n",
       "    </tr>\n",
       "    <tr>\n",
       "      <th>5</th>\n",
       "      <td>REDFRIN alquila estudio en calle GUZMAN EL BUE...</td>\n",
       "      <td>780</td>\n",
       "      <td>0</td>\n",
       "      <td>1</td>\n",
       "      <td>30</td>\n",
       "      <td>1</td>\n",
       "      <td>0</td>\n",
       "      <td>0</td>\n",
       "      <td>Chamberí</td>\n",
       "      <td>0</td>\n",
       "    </tr>\n",
       "    <tr>\n",
       "      <th>6</th>\n",
       "      <td>En el prestigioso barrio de Argüelles , encont...</td>\n",
       "      <td>1300</td>\n",
       "      <td>2</td>\n",
       "      <td>1</td>\n",
       "      <td>55</td>\n",
       "      <td>1</td>\n",
       "      <td>0</td>\n",
       "      <td>1</td>\n",
       "      <td>Moncloa</td>\n",
       "      <td>0</td>\n",
       "    </tr>\n",
       "    <tr>\n",
       "      <th>7</th>\n",
       "      <td>\"\"Agencia inmobiliaria de Madrid - zona Avda. ...</td>\n",
       "      <td>1300</td>\n",
       "      <td>3</td>\n",
       "      <td>2</td>\n",
       "      <td>100</td>\n",
       "      <td>1</td>\n",
       "      <td>0</td>\n",
       "      <td>1</td>\n",
       "      <td>Retiro</td>\n",
       "      <td>0</td>\n",
       "    </tr>\n",
       "    <tr>\n",
       "      <th>8</th>\n",
       "      <td>CONSORCIO REAL ESTATE OPERA ALQUILA. Estudio 4...</td>\n",
       "      <td>800</td>\n",
       "      <td>1</td>\n",
       "      <td>1</td>\n",
       "      <td>40</td>\n",
       "      <td>1</td>\n",
       "      <td>0</td>\n",
       "      <td>0</td>\n",
       "      <td>Centro</td>\n",
       "      <td>0</td>\n",
       "    </tr>\n",
       "    <tr>\n",
       "      <th>9</th>\n",
       "      <td>\"Agencia inmobiliaria de Madrid - zona Avda. C...</td>\n",
       "      <td>800</td>\n",
       "      <td>2</td>\n",
       "      <td>1</td>\n",
       "      <td>72</td>\n",
       "      <td>1</td>\n",
       "      <td>0</td>\n",
       "      <td>1</td>\n",
       "      <td>Retiro</td>\n",
       "      <td>1</td>\n",
       "    </tr>\n",
       "    <tr>\n",
       "      <th>10</th>\n",
       "      <td>Moderna y luminosa vivienda totalmente exterio...</td>\n",
       "      <td>1300</td>\n",
       "      <td>0</td>\n",
       "      <td>1</td>\n",
       "      <td>70</td>\n",
       "      <td>1</td>\n",
       "      <td>0</td>\n",
       "      <td>1</td>\n",
       "      <td>Salamanca</td>\n",
       "      <td>1</td>\n",
       "    </tr>\n",
       "    <tr>\n",
       "      <th>11</th>\n",
       "      <td>Vivienda XXI alquila vivienda exterior amuebla...</td>\n",
       "      <td>1200</td>\n",
       "      <td>2</td>\n",
       "      <td>2</td>\n",
       "      <td>82</td>\n",
       "      <td>1</td>\n",
       "      <td>0</td>\n",
       "      <td>1</td>\n",
       "      <td>Moncloa</td>\n",
       "      <td>0</td>\n",
       "    </tr>\n",
       "    <tr>\n",
       "      <th>12</th>\n",
       "      <td>CONSORCIO REAL ESTATE OPERA ALQUILA. LIBRE EL ...</td>\n",
       "      <td>1400</td>\n",
       "      <td>2</td>\n",
       "      <td>2</td>\n",
       "      <td>95</td>\n",
       "      <td>1</td>\n",
       "      <td>0</td>\n",
       "      <td>1</td>\n",
       "      <td>Centro</td>\n",
       "      <td>0</td>\n",
       "    </tr>\n",
       "    <tr>\n",
       "      <th>13</th>\n",
       "      <td>Solfai Consulting pone a su disposición acoged...</td>\n",
       "      <td>1700</td>\n",
       "      <td>3</td>\n",
       "      <td>2</td>\n",
       "      <td>105</td>\n",
       "      <td>1</td>\n",
       "      <td>0</td>\n",
       "      <td>1</td>\n",
       "      <td>Chamberí</td>\n",
       "      <td>0</td>\n",
       "    </tr>\n",
       "    <tr>\n",
       "      <th>14</th>\n",
       "      <td>Espectacular dúplex - loft de diseño en calle ...</td>\n",
       "      <td>980</td>\n",
       "      <td>0</td>\n",
       "      <td>1</td>\n",
       "      <td>80</td>\n",
       "      <td>1</td>\n",
       "      <td>0</td>\n",
       "      <td>1</td>\n",
       "      <td>Chamberí</td>\n",
       "      <td>0</td>\n",
       "    </tr>\n",
       "  </tbody>\n",
       "</table>\n",
       "</div>"
      ],
      "text/plain": [
       "                                          Descripción  Price  Rooms  Baths  \\\n",
       "0   Este precioso piso de 110m²  amueblado, muy lu...   3200      3      2   \n",
       "1   Vivienda XXI alquila piso exterior de 3 dormit...   1150      3      1   \n",
       "2   .En uno de los edificios más emblemáticos de M...   2100      2      1   \n",
       "3   Agencia inmobiliaria de MADRID - zona AVDA. CI...   1300      3      2   \n",
       "4   Vivienda XXI alquila piso exterior de 3 dormit...   1000      3      1   \n",
       "5   REDFRIN alquila estudio en calle GUZMAN EL BUE...    780      0      1   \n",
       "6   En el prestigioso barrio de Argüelles , encont...   1300      2      1   \n",
       "7   \"\"Agencia inmobiliaria de Madrid - zona Avda. ...   1300      3      2   \n",
       "8   CONSORCIO REAL ESTATE OPERA ALQUILA. Estudio 4...    800      1      1   \n",
       "9   \"Agencia inmobiliaria de Madrid - zona Avda. C...    800      2      1   \n",
       "10  Moderna y luminosa vivienda totalmente exterio...   1300      0      1   \n",
       "11  Vivienda XXI alquila vivienda exterior amuebla...   1200      2      2   \n",
       "12  CONSORCIO REAL ESTATE OPERA ALQUILA. LIBRE EL ...   1400      2      2   \n",
       "13  Solfai Consulting pone a su disposición acoged...   1700      3      2   \n",
       "14  Espectacular dúplex - loft de diseño en calle ...    980      0      1   \n",
       "\n",
       "    Area  Elevator  Parking  Type         NB  Terrace  \n",
       "0    107         1        0     1  Chamartín        1  \n",
       "1     84         0        0     1    Moncloa        0  \n",
       "2    107         1        0     1    Moncloa        1  \n",
       "3    100         1        0     1     Retiro        1  \n",
       "4     83         0        0     1    Moncloa        0  \n",
       "5     30         1        0     0   Chamberí        0  \n",
       "6     55         1        0     1    Moncloa        0  \n",
       "7    100         1        0     1     Retiro        0  \n",
       "8     40         1        0     0     Centro        0  \n",
       "9     72         1        0     1     Retiro        1  \n",
       "10    70         1        0     1  Salamanca        1  \n",
       "11    82         1        0     1    Moncloa        0  \n",
       "12    95         1        0     1     Centro        0  \n",
       "13   105         1        0     1   Chamberí        0  \n",
       "14    80         1        0     1   Chamberí        0  "
      ]
     },
     "execution_count": 85,
     "metadata": {},
     "output_type": "execute_result"
    }
   ],
   "source": [
    "df_pisos.head(15)"
   ]
  },
  {
   "cell_type": "markdown",
   "metadata": {},
   "source": [
    "Y comprobamos con cuántos pisos nos hemos quedado al final"
   ]
  },
  {
   "cell_type": "code",
   "execution_count": 86,
   "metadata": {},
   "outputs": [
    {
     "name": "stdout",
     "output_type": "stream",
     "text": [
      "<class 'pandas.core.frame.DataFrame'>\n",
      "RangeIndex: 61 entries, 0 to 60\n",
      "Data columns (total 10 columns):\n",
      " #   Column       Non-Null Count  Dtype \n",
      "---  ------       --------------  ----- \n",
      " 0   Descripción  61 non-null     object\n",
      " 1   Price        61 non-null     int64 \n",
      " 2   Rooms        61 non-null     int64 \n",
      " 3   Baths        61 non-null     int64 \n",
      " 4   Area         61 non-null     int64 \n",
      " 5   Elevator     61 non-null     int64 \n",
      " 6   Parking      61 non-null     int64 \n",
      " 7   Type         61 non-null     int64 \n",
      " 8   NB           61 non-null     object\n",
      " 9   Terrace      61 non-null     int64 \n",
      "dtypes: int64(8), object(2)\n",
      "memory usage: 4.9+ KB\n"
     ]
    }
   ],
   "source": [
    "df_pisos.info()"
   ]
  },
  {
   "cell_type": "markdown",
   "metadata": {},
   "source": [
    "## Revisando nuestro dataset"
   ]
  },
  {
   "cell_type": "markdown",
   "metadata": {},
   "source": [
    "Con la función describe podemos obteher un resumen estadístico de la distribución de nuestras features numéricas."
   ]
  },
  {
   "cell_type": "markdown",
   "metadata": {},
   "source": [
    "Por ejemplo, por sacar datos que puedan interesarnos:\n",
    "    <li>La media de número de habitaciones es 2. Siendo el mínimo 0 habitaciones (estudios) y el máximo 4.</li>\n",
    "    <li>La media de número de baños es 1, siendo el mínimo 1 y el máximo 2.</li>\n",
    "    <li>En promedio el área ronda los 80 metros. El área mínima es 30 metros y la máxima 200</li>\n",
    "    <li>El precio mínimo es 600€ y el máximo 3200€</li>"
   ]
  },
  {
   "cell_type": "code",
   "execution_count": 87,
   "metadata": {
    "scrolled": true
   },
   "outputs": [
    {
     "data": {
      "text/html": [
       "<div>\n",
       "<style scoped>\n",
       "    .dataframe tbody tr th:only-of-type {\n",
       "        vertical-align: middle;\n",
       "    }\n",
       "\n",
       "    .dataframe tbody tr th {\n",
       "        vertical-align: top;\n",
       "    }\n",
       "\n",
       "    .dataframe thead th {\n",
       "        text-align: right;\n",
       "    }\n",
       "</style>\n",
       "<table border=\"1\" class=\"dataframe\">\n",
       "  <thead>\n",
       "    <tr style=\"text-align: right;\">\n",
       "      <th></th>\n",
       "      <th>Price</th>\n",
       "      <th>Rooms</th>\n",
       "      <th>Baths</th>\n",
       "      <th>Area</th>\n",
       "      <th>Elevator</th>\n",
       "      <th>Parking</th>\n",
       "      <th>Type</th>\n",
       "      <th>Terrace</th>\n",
       "    </tr>\n",
       "  </thead>\n",
       "  <tbody>\n",
       "    <tr>\n",
       "      <th>count</th>\n",
       "      <td>61.000000</td>\n",
       "      <td>61.000000</td>\n",
       "      <td>61.000000</td>\n",
       "      <td>61.000000</td>\n",
       "      <td>61.000000</td>\n",
       "      <td>61.000000</td>\n",
       "      <td>61.000000</td>\n",
       "      <td>61.000000</td>\n",
       "    </tr>\n",
       "    <tr>\n",
       "      <th>mean</th>\n",
       "      <td>1228.852459</td>\n",
       "      <td>2.098361</td>\n",
       "      <td>1.278689</td>\n",
       "      <td>79.655738</td>\n",
       "      <td>0.868852</td>\n",
       "      <td>0.016393</td>\n",
       "      <td>0.950820</td>\n",
       "      <td>0.213115</td>\n",
       "    </tr>\n",
       "    <tr>\n",
       "      <th>std</th>\n",
       "      <td>516.636069</td>\n",
       "      <td>1.011680</td>\n",
       "      <td>0.452075</td>\n",
       "      <td>31.139945</td>\n",
       "      <td>0.340363</td>\n",
       "      <td>0.128037</td>\n",
       "      <td>0.218039</td>\n",
       "      <td>0.412907</td>\n",
       "    </tr>\n",
       "    <tr>\n",
       "      <th>min</th>\n",
       "      <td>600.000000</td>\n",
       "      <td>0.000000</td>\n",
       "      <td>1.000000</td>\n",
       "      <td>30.000000</td>\n",
       "      <td>0.000000</td>\n",
       "      <td>0.000000</td>\n",
       "      <td>0.000000</td>\n",
       "      <td>0.000000</td>\n",
       "    </tr>\n",
       "    <tr>\n",
       "      <th>25%</th>\n",
       "      <td>890.000000</td>\n",
       "      <td>1.000000</td>\n",
       "      <td>1.000000</td>\n",
       "      <td>57.000000</td>\n",
       "      <td>1.000000</td>\n",
       "      <td>0.000000</td>\n",
       "      <td>1.000000</td>\n",
       "      <td>0.000000</td>\n",
       "    </tr>\n",
       "    <tr>\n",
       "      <th>50%</th>\n",
       "      <td>1100.000000</td>\n",
       "      <td>2.000000</td>\n",
       "      <td>1.000000</td>\n",
       "      <td>80.000000</td>\n",
       "      <td>1.000000</td>\n",
       "      <td>0.000000</td>\n",
       "      <td>1.000000</td>\n",
       "      <td>0.000000</td>\n",
       "    </tr>\n",
       "    <tr>\n",
       "      <th>75%</th>\n",
       "      <td>1300.000000</td>\n",
       "      <td>3.000000</td>\n",
       "      <td>2.000000</td>\n",
       "      <td>94.000000</td>\n",
       "      <td>1.000000</td>\n",
       "      <td>0.000000</td>\n",
       "      <td>1.000000</td>\n",
       "      <td>0.000000</td>\n",
       "    </tr>\n",
       "    <tr>\n",
       "      <th>max</th>\n",
       "      <td>3200.000000</td>\n",
       "      <td>4.000000</td>\n",
       "      <td>2.000000</td>\n",
       "      <td>200.000000</td>\n",
       "      <td>1.000000</td>\n",
       "      <td>1.000000</td>\n",
       "      <td>1.000000</td>\n",
       "      <td>1.000000</td>\n",
       "    </tr>\n",
       "  </tbody>\n",
       "</table>\n",
       "</div>"
      ],
      "text/plain": [
       "             Price      Rooms      Baths        Area   Elevator    Parking  \\\n",
       "count    61.000000  61.000000  61.000000   61.000000  61.000000  61.000000   \n",
       "mean   1228.852459   2.098361   1.278689   79.655738   0.868852   0.016393   \n",
       "std     516.636069   1.011680   0.452075   31.139945   0.340363   0.128037   \n",
       "min     600.000000   0.000000   1.000000   30.000000   0.000000   0.000000   \n",
       "25%     890.000000   1.000000   1.000000   57.000000   1.000000   0.000000   \n",
       "50%    1100.000000   2.000000   1.000000   80.000000   1.000000   0.000000   \n",
       "75%    1300.000000   3.000000   2.000000   94.000000   1.000000   0.000000   \n",
       "max    3200.000000   4.000000   2.000000  200.000000   1.000000   1.000000   \n",
       "\n",
       "            Type    Terrace  \n",
       "count  61.000000  61.000000  \n",
       "mean    0.950820   0.213115  \n",
       "std     0.218039   0.412907  \n",
       "min     0.000000   0.000000  \n",
       "25%     1.000000   0.000000  \n",
       "50%     1.000000   0.000000  \n",
       "75%     1.000000   0.000000  \n",
       "max     1.000000   1.000000  "
      ]
     },
     "execution_count": 87,
     "metadata": {},
     "output_type": "execute_result"
    }
   ],
   "source": [
    "df_pisos.describe()"
   ]
  },
  {
   "cell_type": "markdown",
   "metadata": {},
   "source": [
    "Con la librería matplotlib podemos tener una visión general más amigable"
   ]
  },
  {
   "cell_type": "code",
   "execution_count": 88,
   "metadata": {},
   "outputs": [],
   "source": [
    "%matplotlib inline\n",
    "import matplotlib\n",
    "import matplotlib.pyplot as plt"
   ]
  },
  {
   "cell_type": "code",
   "execution_count": 89,
   "metadata": {},
   "outputs": [
    {
     "name": "stdout",
     "output_type": "stream",
     "text": [
      "Matplotlib version 3.1.3\n"
     ]
    }
   ],
   "source": [
    "print(\"Matplotlib version \" + matplotlib.__version__)"
   ]
  },
  {
   "cell_type": "code",
   "execution_count": 90,
   "metadata": {},
   "outputs": [
    {
     "data": {
      "image/png": "[encoded data removed]",
      "text/plain": [
       "<Figure size 1440x1080 with 9 Axes>"
      ]
     },
     "metadata": {
      "needs_background": "light"
     },
     "output_type": "display_data"
    }
   ],
   "source": [
    "df_pisos.hist(bins=50, figsize=(20,15))\n",
    "plt.show()"
   ]
  },
  {
   "cell_type": "markdown",
   "metadata": {},
   "source": [
    "## Caso 1: Piso de 1 habitación, interior en El Viso"
   ]
  },
  {
   "cell_type": "markdown",
   "metadata": {},
   "source": [
    "Para esto voy a evaluar los pisos de 1 habitación y estudios, no solo en El Viso, sino en todo el barrio de Chamartín y sus alrededores (Salamanca, Retiro y Chamartín), ¿por qué? porque todos estos barrios están muy bien comunicados con el Viso, son muy similares en calidad y si mi piso lo alquilo a 700€, pero la media por pisos de 1 habitación en el barrio de Salamanca (un barrio que se considera más caro), pues ya voy mal"
   ]
  },
  {
   "cell_type": "code",
   "execution_count": null,
   "metadata": {},
   "outputs": [],
   "source": [
    "Vamos a analizar un poco nuestra base de datos, te"
   ]
  },
  {
   "cell_type": "code",
   "execution_count": 94,
   "metadata": {},
   "outputs": [
    {
     "name": "stdout",
     "output_type": "stream",
     "text": [
      "<class 'pandas.core.frame.DataFrame'>\n",
      "RangeIndex: 474 entries, 0 to 473\n",
      "Data columns (total 9 columns):\n",
      " #   Column       Non-Null Count  Dtype \n",
      "---  ------       --------------  ----- \n",
      " 0   Descripción  474 non-null    object\n",
      " 1   Price        474 non-null    int64 \n",
      " 2   Rooms        474 non-null    int64 \n",
      " 3   Baths        474 non-null    int64 \n",
      " 4   Area         474 non-null    int64 \n",
      " 5   Elevator     474 non-null    int64 \n",
      " 6   Parking      474 non-null    int64 \n",
      " 7   Type         474 non-null    int64 \n",
      " 8   NB           474 non-null    object\n",
      "dtypes: int64(7), object(2)\n",
      "memory usage: 33.5+ KB\n"
     ]
    }
   ],
   "source": []
  },
  {
   "cell_type": "code",
   "execution_count": 91,
   "metadata": {},
   "outputs": [],
   "source": [
    "A = [1,2,3,4,5,1,1,1,1,1]"
   ]
  },
  {
   "cell_type": "code",
   "execution_count": 94,
   "metadata": {},
   "outputs": [],
   "source": [
    "lista =  []\n",
    "\n",
    "for a in A:\n",
    "    if a == 1:\n",
    "        lista.append(a)"
   ]
  },
  {
   "cell_type": "code",
   "execution_count": 95,
   "metadata": {},
   "outputs": [
    {
     "data": {
      "text/plain": [
       "[1, 1, 1, 1, 1, 1]"
      ]
     },
     "execution_count": 95,
     "metadata": {},
     "output_type": "execute_result"
    }
   ],
   "source": [
    "lista"
   ]
  },
  {
   "cell_type": "code",
   "execution_count": null,
   "metadata": {},
   "outputs": [],
   "source": []
  }
 ],
 "metadata": {
  "kernelspec": {
   "display_name": "Python 3",
   "language": "python",
   "name": "python3"
  },
  "language_info": {
   "codemirror_mode": {
    "name": "ipython",
    "version": 3
   },
   "file_extension": ".py",
   "mimetype": "text/x-python",
   "name": "python",
   "nbconvert_exporter": "python",
   "pygments_lexer": "ipython3",
   "version": "3.7.6"
  }
 },
 "nbformat": 4,
 "nbformat_minor": 4
}
